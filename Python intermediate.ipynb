{
 "cells": [
  {
   "cell_type": "markdown",
   "metadata": {},
   "source": [
    "### 1. statement retrieves names of all builtin objects\n",
    "\n",
    "Ans - import builtins; builtins.dict.keys()"
   ]
  },
  {
   "cell_type": "markdown",
   "metadata": {},
   "source": [
    "### 2. statement retrieves names of all builtin modules?\n",
    "\n",
    "ans - import sys; sys.builtin_module_names"
   ]
  },
  {
   "cell_type": "markdown",
   "metadata": {},
   "source": [
    "### 3. method are invoked on entering into and exiting from the code written in  ' with ' statement?\n",
    "ans - __ enter __ , __ exit __"
   ]
  },
  {
   "cell_type": "markdown",
   "metadata": {},
   "source": [
    "### 4. class A:\n",
    "    metaclass = B"
   ]
  },
  {
   "cell_type": "markdown",
   "metadata": {},
   "source": [
    "### 5. which methods are defined for an iterator class?\n",
    "ans - __ iter __, __ next __"
   ]
  },
  {
   "cell_type": "markdown",
   "metadata": {},
   "source": [
    "### 6. which of the following is true about decorators?\n",
    "ans - DEcorators can be chained"
   ]
  },
  {
   "cell_type": "markdown",
   "metadata": {},
   "source": [
    "### 7. which of the following module help in checking performance of python code?\n",
    "\n",
    "ans - timeit"
   ]
  },
  {
   "cell_type": "markdown",
   "metadata": {},
   "source": [
    "### 8. Which of the following is true about property decorator?\n",
    "\n",
    "ans :  property decorator is used either for getting, setting or deleting an attribute"
   ]
  },
  {
   "cell_type": "markdown",
   "metadata": {},
   "source": [
    "### 9 which method is used by a user defined class to support '+' operator?\n",
    "ans - __ add __"
   ]
  },
  {
   "cell_type": "markdown",
   "metadata": {},
   "source": [
    "### 10. PEP stands for \n",
    "ans - Python enhancement protocol"
   ]
  },
  {
   "cell_type": "markdown",
   "metadata": {},
   "source": [
    "### 11. keyword used to display a customized error message to the user?\n",
    "ans - raise"
   ]
  },
  {
   "cell_type": "markdown",
   "metadata": {},
   "source": [
    "### 12. which of the following creates a dict whose keys are ele of list 'keys' and associated values are from list 'values'?\n",
    "ans - dict(zip(keys,vals))"
   ]
  },
  {
   "cell_type": "markdown",
   "metadata": {},
   "source": [
    "### 13. d1 = dict() which is not valid from below?\n",
    "ans : d1 = {1,4}"
   ]
  },
  {
   "cell_type": "markdown",
   "metadata": {},
   "source": [
    "### 14. output of the given statement"
   ]
  },
  {
   "cell_type": "code",
   "execution_count": 2,
   "metadata": {},
   "outputs": [
    {
     "name": "stdout",
     "output_type": "stream",
     "text": [
      "$5 * 10 = 50\n"
     ]
    }
   ],
   "source": [
    "print('{0:$>2d} * {1:$>2d} = {2:$>2d}'.format(5, 10, 5 * 10))"
   ]
  },
  {
   "cell_type": "markdown",
   "metadata": {},
   "source": [
    "### 15. which module is not used for parsing command line arg automatically?\n",
    "ans - getopt"
   ]
  },
  {
   "cell_type": "markdown",
   "metadata": {},
   "source": [
    "### 16. which of the following string can be assigned to format argument of basicConfig function, in logging line of log file?\n",
    "ans - \"%(levelname)s:%(message)s\""
   ]
  },
  {
   "cell_type": "markdown",
   "metadata": {},
   "source": [
    "### 17. not a standard level for logging various events using 'logging' module?\n",
    "ans : LOG"
   ]
  },
  {
   "cell_type": "markdown",
   "metadata": {},
   "source": [
    "### 18. if a property name 'temp' is defined in a class, which of the following decorator statement is required for setting the 'temp attribute?\n",
    "ans - @temp.setter"
   ]
  },
  {
   "cell_type": "markdown",
   "metadata": {},
   "source": [
    "### 19. what is the type of var a defined as "
   ]
  },
  {
   "cell_type": "code",
   "execution_count": 3,
   "metadata": {},
   "outputs": [
    {
     "data": {
      "text/plain": [
       "int"
      ]
     },
     "execution_count": 3,
     "metadata": {},
     "output_type": "execute_result"
    }
   ],
   "source": [
    "a = (5)\n",
    "type(a)"
   ]
  },
  {
   "cell_type": "markdown",
   "metadata": {},
   "source": [
    "# 20. what is the output of the following code?"
   ]
  },
  {
   "cell_type": "code",
   "execution_count": 4,
   "metadata": {},
   "outputs": [
    {
     "name": "stdout",
     "output_type": "stream",
     "text": [
      "[6, 6, 6, 6]\n"
     ]
    }
   ],
   "source": [
    "def multipliers():\n",
    "    return [lambda x : i * x for i in range(4)]\n",
    "\n",
    "print([m(2) for m in multipliers()])"
   ]
  },
  {
   "cell_type": "markdown",
   "metadata": {},
   "source": [
    "# 21. what is output foo ()"
   ]
  },
  {
   "cell_type": "code",
   "execution_count": 5,
   "metadata": {},
   "outputs": [
    {
     "name": "stdout",
     "output_type": "stream",
     "text": [
      "1\n",
      "2\n"
     ]
    },
    {
     "ename": "StopIteration",
     "evalue": "",
     "output_type": "error",
     "traceback": [
      "\u001b[1;31m---------------------------------------------------------------------------\u001b[0m",
      "\u001b[1;31mStopIteration\u001b[0m                             Traceback (most recent call last)",
      "\u001b[1;32m<ipython-input-5-223540568e2d>\u001b[0m in \u001b[0;36m<module>\u001b[1;34m\u001b[0m\n\u001b[0;32m     15\u001b[0m \u001b[0mf\u001b[0m \u001b[1;33m=\u001b[0m \u001b[0mfoo\u001b[0m\u001b[1;33m(\u001b[0m\u001b[0mn\u001b[0m\u001b[1;33m)\u001b[0m\u001b[1;33m\u001b[0m\u001b[1;33m\u001b[0m\u001b[0m\n\u001b[0;32m     16\u001b[0m \u001b[1;32mfor\u001b[0m \u001b[0mi\u001b[0m \u001b[1;32min\u001b[0m \u001b[0mrange\u001b[0m\u001b[1;33m(\u001b[0m\u001b[0mn\u001b[0m\u001b[1;33m)\u001b[0m\u001b[1;33m:\u001b[0m\u001b[1;33m\u001b[0m\u001b[1;33m\u001b[0m\u001b[0m\n\u001b[1;32m---> 17\u001b[1;33m     \u001b[0mprint\u001b[0m\u001b[1;33m(\u001b[0m\u001b[0mf\u001b[0m\u001b[1;33m.\u001b[0m\u001b[0m__next__\u001b[0m\u001b[1;33m(\u001b[0m\u001b[1;33m)\u001b[0m\u001b[1;33m)\u001b[0m\u001b[1;33m\u001b[0m\u001b[1;33m\u001b[0m\u001b[0m\n\u001b[0m",
      "\u001b[1;31mStopIteration\u001b[0m: "
     ]
    }
   ],
   "source": [
    "def foo(n):\n",
    "    if (n < 3):\n",
    "        yield 1\n",
    "        \n",
    "    else:\n",
    "        return \n",
    "    yield 2 \n",
    "    \n",
    "n = 2\n",
    "f = foo(n)\n",
    "for i in range(n):\n",
    "    print(f.__next__())\n",
    "    \n",
    "n = 5\n",
    "f = foo(n)\n",
    "for i in range(n):\n",
    "    print(f.__next__())"
   ]
  },
  {
   "cell_type": "markdown",
   "metadata": {},
   "source": [
    "# 22. output of class myError"
   ]
  },
  {
   "cell_type": "code",
   "execution_count": 6,
   "metadata": {},
   "outputs": [
    {
     "name": "stdout",
     "output_type": "stream",
     "text": [
      "Hello World!\n",
      "Error Message : 'Oops something went wrong'\n"
     ]
    }
   ],
   "source": [
    "class MyError(Exception):\n",
    "    def __init__(self, value):\n",
    "        self.value = value\n",
    "        \n",
    "    def __str__(self):\n",
    "        return repr(self.value)\n",
    "    \n",
    "try:\n",
    "    print('Hello World!')\n",
    "    raise MyError('Oops something went wrong')\n",
    "except MyError as e:\n",
    "    print('Error Message :', e)"
   ]
  },
  {
   "cell_type": "markdown",
   "metadata": {},
   "source": [
    "# 23. def deprecated function output"
   ]
  },
  {
   "cell_type": "code",
   "execution_count": 10,
   "metadata": {},
   "outputs": [
    {
     "name": "stdout",
     "output_type": "stream",
     "text": [
      "144\n",
      "newfunc\n",
      "None\n"
     ]
    },
    {
     "name": "stderr",
     "output_type": "stream",
     "text": [
      "C:\\ProgramData\\Anaconda3\\lib\\site-packages\\ipykernel_launcher.py:5: DeprecationWarning: Call to deprecated function prod\n",
      "  \"\"\"\n"
     ]
    }
   ],
   "source": [
    "import warnings\n",
    "import functools\n",
    "def deprecated(func):\n",
    "    def newfunc(*args, **kwargs):\n",
    "        warnings.warn('Call to deprecated function {}'.format(func.__name__), category = DeprecationWarning)\n",
    "        return func(*args, **kwargs)\n",
    "    return newfunc\n",
    "\n",
    "@deprecated\n",
    "def prod(x,y):\n",
    "    'Returns product of two numbers'\n",
    "    return x * y\n",
    "\n",
    "print(prod(12,12))\n",
    "print(prod.__name__)\n",
    "print(prod.__doc__)"
   ]
  },
  {
   "cell_type": "markdown",
   "metadata": {},
   "source": [
    "# 24. which of the following functions correctly check if a given element is present atleast twice?"
   ]
  },
  {
   "cell_type": "code",
   "execution_count": 11,
   "metadata": {},
   "outputs": [],
   "source": [
    "def check_twice1(lst, elm):\n",
    "    return lst.count(elm)>1\n",
    "  \n",
    "def check_twice2(lst, elm):\n",
    "    return (elm in lst and elm in lst[lst.index(elm)+1:])\n",
    "  \n",
    "def check_twice3(lst, elm):\n",
    "    c = 0\n",
    "    for x in lst:\n",
    "        if x == elm : c += 1\n",
    "    return c\n",
    "  \n",
    "def check_twice4(lst, elm):\n",
    "    try:\n",
    "        lst.remove(elm)\n",
    "        lst.remove(elm)\n",
    "    except:\n",
    "        return False\n",
    "    return True"
   ]
  },
  {
   "cell_type": "markdown",
   "metadata": {},
   "source": [
    "# 25. multiple inheritance"
   ]
  },
  {
   "cell_type": "code",
   "execution_count": 12,
   "metadata": {},
   "outputs": [
    {
     "name": "stdout",
     "output_type": "stream",
     "text": [
      "(<class '__main__.child'>, <class '__main__.mother'>, <class '__main__.father'>, <class '__main__.grandpa'>, <class 'object'>)\n"
     ]
    }
   ],
   "source": [
    "class grandpa(object):\n",
    "    pass\n",
    "class father(grandpa):\n",
    "    pass\n",
    "class mother(object):\n",
    "    pass\n",
    "class child(mother, father):\n",
    "    pass\n",
    "\n",
    "print(child.__mro__)"
   ]
  },
  {
   "cell_type": "markdown",
   "metadata": {},
   "source": [
    "# 26. logging output ??"
   ]
  },
  {
   "cell_type": "code",
   "execution_count": 13,
   "metadata": {},
   "outputs": [
    {
     "name": "stderr",
     "output_type": "stream",
     "text": [
      "WARNING:root:A warning\n",
      "ERROR:root:An Error\n"
     ]
    }
   ],
   "source": [
    "import logging\n",
    "logging.warning('A warning')\n",
    "logging.info('A info')\n",
    "logging.error('An Error')\n",
    "logging.debug('Debugging')\n"
   ]
  },
  {
   "cell_type": "markdown",
   "metadata": {},
   "source": [
    "# 27. which code extracts the matched data from the object returned by f1 in the given sample??"
   ]
  },
  {
   "cell_type": "code",
   "execution_count": 14,
   "metadata": {},
   "outputs": [],
   "source": [
    "import re\n",
    "\n",
    "def f1(data):\n",
    "    p = re.compile('(?P[A-Z]{2,3}) (?P[0-9]{3})')\n",
    "    return p.search(data)"
   ]
  },
  {
   "cell_type": "markdown",
   "metadata": {},
   "source": [
    "Ans: \n",
    "\n",
    "`obj = f1('CS 101')`\n",
    "\n",
    "`dept, num = obj.group('dept'), obj.group('num')`\n",
    "\n"
   ]
  },
  {
   "cell_type": "markdown",
   "metadata": {},
   "source": [
    "# 28. what is the output of the following code?"
   ]
  },
  {
   "cell_type": "code",
   "execution_count": 22,
   "metadata": {},
   "outputs": [
    {
     "name": "stdout",
     "output_type": "stream",
     "text": [
      "False\n",
      "True\n",
      "True\n",
      "True\n"
     ]
    }
   ],
   "source": [
    "class A: pass\n",
    "\n",
    "class B(A): pass\n",
    "\n",
    "class C(object): pass\n",
    "\n",
    "class D(C): pass\n",
    "\n",
    "\n",
    "a = A()\n",
    "b = B()\n",
    "c = C()\n",
    "d = D()\n",
    "\n",
    "print(isinstance(a, type(b)))\n",
    "print(issubclass(C,C))\n",
    "\n",
    "print(isinstance(d, D))\n",
    "print(issubclass(C, (D,A,B,C)))"
   ]
  },
  {
   "cell_type": "markdown",
   "metadata": {},
   "source": [
    "# 29. what is the output of the following code??\n",
    "# BOB"
   ]
  },
  {
   "cell_type": "code",
   "execution_count": 24,
   "metadata": {},
   "outputs": [
    {
     "name": "stdout",
     "output_type": "stream",
     "text": [
      "My name is Bob\n",
      "I'm the father\n"
     ]
    }
   ],
   "source": [
    "class Person(object):\n",
    "    def __init__(self, name):\n",
    "        print('My name is ', name)\n",
    "    \n",
    "class Bob(Person):\n",
    "    def __init__(self, name = 'Bob'):\n",
    "        print('My name is Bob')\n",
    "    \n",
    "    def ClassID(self):\n",
    "        print(\"I'm the father\")\n",
    "    \n",
    "class Sue(Person):\n",
    "    def __init__(self, name = 'Sue'):\n",
    "        print('My name is Sue')\n",
    "        \n",
    "        def ClassID(self):\n",
    "            print(\"I'm the mother\")\n",
    "            \n",
    "class Child(Bob, Sue):\n",
    "    def __init__(self, name = 'x'):\n",
    "        super(Child, self).__init__(name)\n",
    "        \n",
    "    def ChildID(self):\n",
    "        print(\"I'm the child\")\n",
    "        \n",
    "\n",
    "Ann = Child(\"Ann\")\n",
    "Ann.ClassID()\n",
    "    "
   ]
  },
  {
   "cell_type": "markdown",
   "metadata": {},
   "source": [
    "# 30. what is the output of the following code?\n"
   ]
  },
  {
   "cell_type": "code",
   "execution_count": 23,
   "metadata": {},
   "outputs": [
    {
     "name": "stdout",
     "output_type": "stream",
     "text": [
      "<class 'type'>\n",
      "<class 'type'>\n",
      "<class 'type'>\n"
     ]
    }
   ],
   "source": [
    "class MyType(type):\n",
    "    pass\n",
    "class SubType(MyType):\n",
    "    pass\n",
    "class MyObject(object):\n",
    "    __metaclass__ = MyType\n",
    "\n",
    "\n",
    "\n",
    "print(MyType.__class__)\n",
    "print(SubType.__class__)\n",
    "print(MyObject.__class__)"
   ]
  },
  {
   "cell_type": "markdown",
   "metadata": {},
   "source": [
    "# 31. Referring to sample code, which line contains an error, assuming z is defined?"
   ]
  },
  {
   "cell_type": "code",
   "execution_count": 26,
   "metadata": {},
   "outputs": [],
   "source": [
    "def func(**kw):\n",
    "    x = 1,2,3     # line 1\n",
    "    a,b,c = 1,2,3 # line 2\n",
    "    y = z         # line 3\n",
    "    d,e = 1,2,3   # line 4"
   ]
  },
  {
   "cell_type": "markdown",
   "metadata": {},
   "source": [
    "# 32. what is the output of the following code?\n"
   ]
  },
  {
   "cell_type": "code",
   "execution_count": 27,
   "metadata": {},
   "outputs": [
    {
     "name": "stdout",
     "output_type": "stream",
     "text": [
      "'function' object has no attribute 's'\n",
      "some value\n"
     ]
    }
   ],
   "source": [
    "def f1(a,b):\n",
    "    f1.s = 'some value'\n",
    "    return a+b\n",
    "\n",
    "try:\n",
    "    print(f1.s)\n",
    "\n",
    "except Exception as e:\n",
    "    print(str(e))\n",
    "    \n",
    "f1(3,4)\n",
    "\n",
    "try:\n",
    "    print(f1.s)\n",
    "except Exception as e:\n",
    "    print(str(e))"
   ]
  },
  {
   "cell_type": "markdown",
   "metadata": {},
   "source": [
    "# 33. what is the output of the following code?\n",
    "# class1"
   ]
  },
  {
   "cell_type": "code",
   "execution_count": 28,
   "metadata": {},
   "outputs": [
    {
     "name": "stdout",
     "output_type": "stream",
     "text": [
      "2\n",
      "2\n",
      "3\n",
      "2\n"
     ]
    }
   ],
   "source": [
    "class class1:\n",
    "    a = 1\n",
    "    \n",
    "    def f1():\n",
    "        a = 2\n",
    "        class1.a += 1\n",
    "        print(class1.a)\n",
    "        print(a)\n",
    "        \n",
    "class1.f1()\n",
    "class1.f1()"
   ]
  },
  {
   "cell_type": "markdown",
   "metadata": {},
   "source": [
    "# 34. what is the output? \n",
    "# smart_divide"
   ]
  },
  {
   "cell_type": "code",
   "execution_count": 29,
   "metadata": {},
   "outputs": [
    {
     "name": "stdout",
     "output_type": "stream",
     "text": [
      "wrapper\n",
      "0.25\n",
      "oops! cannot divide\n",
      "None\n"
     ]
    }
   ],
   "source": [
    "def smart_divide(func):\n",
    "    def wrapper(*args):\n",
    "        a, b = args\n",
    "        if b == 0:\n",
    "            print('oops! cannot divide')\n",
    "            return \n",
    "        \n",
    "        return func(*args)\n",
    "    return wrapper\n",
    "\n",
    "@smart_divide\n",
    "def divide(a, b):\n",
    "    return a / b\n",
    "\n",
    "print(divide.__name__)\n",
    "print(divide(4, 16))\n",
    "\n",
    "print(divide(8,0))"
   ]
  },
  {
   "cell_type": "code",
   "execution_count": null,
   "metadata": {},
   "outputs": [],
   "source": []
  }
 ],
 "metadata": {
  "kernelspec": {
   "display_name": "Python 3",
   "language": "python",
   "name": "python3"
  },
  "language_info": {
   "codemirror_mode": {
    "name": "ipython",
    "version": 3
   },
   "file_extension": ".py",
   "mimetype": "text/x-python",
   "name": "python",
   "nbconvert_exporter": "python",
   "pygments_lexer": "ipython3",
   "version": "3.7.6"
  }
 },
 "nbformat": 4,
 "nbformat_minor": 4
}
